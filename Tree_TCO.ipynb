{
 "cells": [
  {
   "cell_type": "code",
   "execution_count": 56,
   "id": "fe3edc73",
   "metadata": {},
   "outputs": [],
   "source": [
    "class TreeNode:\n",
    "    \n",
    "    def __init__(self,d):\n",
    "        self.data = d\n",
    "        self.leftchild = None\n",
    "        self.rightchild = None\n",
    "        \n",
    "        "
   ]
  },
  {
   "cell_type": "code",
   "execution_count": 57,
   "id": "f61529de",
   "metadata": {},
   "outputs": [],
   "source": [
    "rootNode = TreeNode(\"menu\")"
   ]
  },
  {
   "cell_type": "code",
   "execution_count": null,
   "id": "727a124d",
   "metadata": {},
   "outputs": [],
   "source": [
    "\n"
   ]
  },
  {
   "cell_type": "code",
   "execution_count": 58,
   "id": "08a9a69d",
   "metadata": {},
   "outputs": [],
   "source": [
    "food = TreeNode(\"food\")\n",
    "rootNode.leftchild  = food"
   ]
  },
  {
   "cell_type": "code",
   "execution_count": 59,
   "id": "94a4bc85",
   "metadata": {},
   "outputs": [],
   "source": [
    "drink = TreeNode(\"drink\")\n",
    "rootNode.rightchild  = drink"
   ]
  },
  {
   "cell_type": "code",
   "execution_count": 60,
   "id": "a0cb657b",
   "metadata": {},
   "outputs": [],
   "source": [
    "main = TreeNode(\"main\")\n",
    "food.leftchild  = main"
   ]
  },
  {
   "cell_type": "code",
   "execution_count": 61,
   "id": "6884ca99",
   "metadata": {},
   "outputs": [],
   "source": [
    "desert = TreeNode(\"desert\")\n",
    "food.rightchild  = desert"
   ]
  },
  {
   "cell_type": "code",
   "execution_count": 62,
   "id": "b42508be",
   "metadata": {},
   "outputs": [],
   "source": [
    "colddrink = TreeNode(\"cold\")\n",
    "drink.leftchild = colddrink"
   ]
  },
  {
   "cell_type": "code",
   "execution_count": 63,
   "id": "e8dcc55a",
   "metadata": {},
   "outputs": [],
   "source": [
    "hotdrink = TreeNode(\"hot\")\n",
    "drink.rightchild = hotdrink"
   ]
  },
  {
   "cell_type": "code",
   "execution_count": 64,
   "id": "c7efdf5c",
   "metadata": {},
   "outputs": [
    {
     "name": "stdout",
     "output_type": "stream",
     "text": [
      "{'data': 'menu', 'leftchild': <__main__.TreeNode object at 0x00000134BBDB5370>, 'rightchild': <__main__.TreeNode object at 0x00000134BB716400>}\n",
      "{'data': 'food', 'leftchild': <__main__.TreeNode object at 0x00000134BB9826D0>, 'rightchild': <__main__.TreeNode object at 0x00000134BA7ED610>}\n",
      "{'data': 'main', 'leftchild': None, 'rightchild': None}\n",
      "{'data': 'desert', 'leftchild': None, 'rightchild': None}\n",
      "{'data': 'drink', 'leftchild': <__main__.TreeNode object at 0x00000134BBCE2FD0>, 'rightchild': <__main__.TreeNode object at 0x00000134BBCDFB50>}\n",
      "{'data': 'cold', 'leftchild': None, 'rightchild': None}\n",
      "{'data': 'hot', 'leftchild': None, 'rightchild': None}\n"
     ]
    }
   ],
   "source": [
    "print(rootNode.__dict__)\n",
    "print(food.__dict__)\n",
    "\n",
    "print(main.__dict__)\n",
    "print(desert.__dict__)\n",
    "\n",
    "print(drink.__dict__)\n",
    "print(colddrink.__dict__)\n",
    "print(hotdrink.__dict__)"
   ]
  },
  {
   "cell_type": "code",
   "execution_count": 70,
   "id": "866e5c03",
   "metadata": {},
   "outputs": [],
   "source": [
    "def preOrderTraverse(rootNode,leftchild,rightchild):\n",
    "    if not rootNode:\n",
    "        return\n",
    "    \n",
    "    print(rootNode.data)\n",
    "    \n",
    "    preOrderTraverse(rootNode.leftchild,rootNode.leftchild,rootNode.rightchild),preOrderTraverse(rootNode.rightchild,rootNode.leftchild,rootNode.rightchild)"
   ]
  },
  {
   "cell_type": "code",
   "execution_count": 71,
   "id": "2e0eb0bf",
   "metadata": {},
   "outputs": [
    {
     "name": "stdout",
     "output_type": "stream",
     "text": [
      "menu\n",
      "food\n",
      "main\n",
      "desert\n",
      "drink\n",
      "cold\n",
      "hot\n"
     ]
    }
   ],
   "source": [
    "preOrderTraverse(rootNode,rootNode.leftchild,rootNode.rightchild)"
   ]
  },
  {
   "cell_type": "code",
   "execution_count": null,
   "id": "e3b6c19a",
   "metadata": {},
   "outputs": [],
   "source": []
  },
  {
   "cell_type": "code",
   "execution_count": null,
   "id": "cb6f00d0",
   "metadata": {},
   "outputs": [],
   "source": []
  }
 ],
 "metadata": {
  "kernelspec": {
   "display_name": "Python 3",
   "language": "python",
   "name": "python3"
  },
  "language_info": {
   "codemirror_mode": {
    "name": "ipython",
    "version": 3
   },
   "file_extension": ".py",
   "mimetype": "text/x-python",
   "name": "python",
   "nbconvert_exporter": "python",
   "pygments_lexer": "ipython3",
   "version": "3.8.8"
  }
 },
 "nbformat": 4,
 "nbformat_minor": 5
}
